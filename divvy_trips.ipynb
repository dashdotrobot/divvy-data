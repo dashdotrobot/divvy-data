{
 "cells": [
  {
   "cell_type": "markdown",
   "metadata": {},
   "source": [
    "# Analyze and plot Divvy trips"
   ]
  },
  {
   "cell_type": "code",
   "execution_count": 2,
   "metadata": {
    "collapsed": false
   },
   "outputs": [],
   "source": [
    "%matplotlib inline\n",
    "import sodapy\n",
    "import matplotlib.pyplot as pp\n",
    "\n",
    "data_url = 'data.cityofchicago.org'\n",
    "divvy_data = 'fg6s-gzvg'"
   ]
  },
  {
   "cell_type": "markdown",
   "metadata": {},
   "source": [
    "## Example: Print most recent 10 trips for a bike"
   ]
  },
  {
   "cell_type": "code",
   "execution_count": 3,
   "metadata": {
    "collapsed": false
   },
   "outputs": [
    {
     "name": "stderr",
     "output_type": "stream",
     "text": [
      "WARNING:root:Requests made without an app_token will be subject to strict throttling limits.\n"
     ]
    },
    {
     "name": "stdout",
     "output_type": "stream",
     "text": [
      "Clark St & Randolph St  >>  Franklin St & Jackson Blvd\n",
      "Desplaines St & Jackson Blvd  >>  Clark St & Randolph St\n",
      "Franklin St & Quincy St  >>  Desplaines St & Jackson Blvd\n",
      "Aberdeen St & Jackson Blvd  >>  Franklin St & Quincy St\n",
      "Ada St & Washington Blvd  >>  Aberdeen St & Jackson Blvd\n",
      "Desplaines St & Kinzie St  >>  Ada St & Washington Blvd\n",
      "Noble St & Milwaukee Ave  >>  Desplaines St & Kinzie St\n",
      "Western Ave & Winnebago Ave  >>  Noble St & Milwaukee Ave\n",
      "Milwaukee Ave & Wabansia Ave  >>  Western Ave & Winnebago Ave\n",
      "Larrabee St & Webster Ave  >>  Milwaukee Ave & Wabansia Ave\n"
     ]
    }
   ],
   "source": [
    "data = sodapy.Socrata(data_url, None)\n",
    "\n",
    "bike_id = 2538  # random bike\n",
    "\n",
    "# Get most recent 10 trips\n",
    "trip_chain = data.get(divvy_data, bike_id=bike_id,\n",
    "                      limit=10, order='stop_time DESC')\n",
    "\n",
    "for t in trip_chain:\n",
    "    print t['from_station_name'], ' >> ', t['to_station_name']\n",
    "\n",
    "data.close()"
   ]
  },
  {
   "cell_type": "markdown",
   "metadata": {},
   "source": [
    "## Plot each trip as a line segment"
   ]
  },
  {
   "cell_type": "code",
   "execution_count": 4,
   "metadata": {
    "collapsed": false
   },
   "outputs": [
    {
     "data": {
      "image/png": "[encoded data removed]",
      "text/plain": [
       "<matplotlib.figure.Figure at 0x77221d0>"
      ]
     },
     "metadata": {},
     "output_type": "display_data"
    }
   ],
   "source": [
    "for t in trip_chain:\n",
    "    from_lat = float(t['from_latitude'])\n",
    "    to_lat = float(t['to_latitude'])\n",
    "    from_lon = float(t['from_longitude'])\n",
    "    to_lon = float(t['to_longitude'])\n",
    "    \n",
    "    pp.plot([from_lon, to_lon], [from_lat, to_lat], 'r')\n",
    "    pp.plot(from_lon, from_lat, 'go')\n",
    "    pp.plot(to_lon, to_lat, 'r*')\n",
    "    \n",
    "pp.show()"
   ]
  },
  {
   "cell_type": "markdown",
   "metadata": {},
   "source": [
    "## Analyze trip chains\n",
    "A trip chain is a series of contiguous trips (from station to station) where each trip starts at the same station as where the previous trip ended.\n",
    "\n",
    "Trip chains are presumably disrupted for several reasons including\n",
    "- Maintenance\n",
    "- Removal for special events\n",
    "- Load balancing"
   ]
  },
  {
   "cell_type": "code",
   "execution_count": 8,
   "metadata": {
    "collapsed": false
   },
   "outputs": [
    {
     "name": "stderr",
     "output_type": "stream",
     "text": [
      "WARNING:root:Requests made without an app_token will be subject to strict throttling limits.\n"
     ]
    },
    {
     "data": {
      "image/png": "[encoded data removed]",
      "text/plain": [
       "<matplotlib.figure.Figure at 0x79211d0>"
      ]
     },
     "metadata": {},
     "output_type": "display_data"
    }
   ],
   "source": [
    "import tripchains\n",
    "bike_id = 1000  # random bike\n",
    "\n",
    "# Get all trips for bike, oldest first\n",
    "data = sodapy.Socrata(data_url, None)\n",
    "all_trips = data.get(divvy_data,\n",
    "                     bike_id=bike_id,\n",
    "                     limit=10000,\n",
    "                     order='stop_time ASC')\n",
    "data.close()\n",
    "\n",
    "tc_starts = tripchains.tripchain_starts(all_trips)\n",
    "tc_len = tripchains.tripchain_lengths(tc_starts, len(all_trips))\n",
    "\n",
    "pp.hist(tc_len, bins=20)\n",
    "pp.show()"
   ]
  },
  {
   "cell_type": "code",
   "execution_count": null,
   "metadata": {
    "collapsed": false
   },
   "outputs": [],
   "source": []
  }
 ],
 "metadata": {
  "kernelspec": {
   "display_name": "Python 2",
   "language": "python",
   "name": "python2"
  },
  "language_info": {
   "codemirror_mode": {
    "name": "ipython",
    "version": 2
   },
   "file_extension": ".py",
   "mimetype": "text/x-python",
   "name": "python",
   "nbconvert_exporter": "python",
   "pygments_lexer": "ipython2",
   "version": "2.7.11"
  }
 },
 "nbformat": 4,
 "nbformat_minor": 0
}
