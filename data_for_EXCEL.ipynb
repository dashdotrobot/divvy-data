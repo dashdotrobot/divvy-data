{
 "cells": [
  {
   "cell_type": "code",
   "execution_count": 1,
   "metadata": {
    "collapsed": true
   },
   "outputs": [],
   "source": [
    "%matplotlib inline\n",
    "import matplotlib.pyplot as plt\n",
    "import numpy as np\n",
    "import pandas as pd\n",
    "import urllib\n",
    "\n",
    "data_url = 'https://data.cityofchicago.org/resource/fg6s-gzvg.json'"
   ]
  },
  {
   "cell_type": "code",
   "execution_count": 2,
   "metadata": {
    "collapsed": false
   },
   "outputs": [
    {
     "name": "stdout",
     "output_type": "stream",
     "text": [
      "        month   total\n",
      "0  2013-06-01    4005\n",
      "1  2013-07-01   74867\n",
      "2  2013-08-01  170508\n",
      "3  2013-09-01  201030\n",
      "4  2013-10-01  174695\n",
      "5  2013-11-01   90010\n",
      "6  2013-12-01   44673\n",
      "7  2014-01-01   25076\n",
      "8  2014-02-01   28087\n",
      "9  2014-03-01   69308\n",
      "10 2014-04-01  158476\n",
      "11 2014-05-01  278745\n",
      "12 2014-06-01  346007\n",
      "13 2014-07-01  410340\n",
      "14 2014-08-01  392117\n",
      "15 2014-09-01  308513\n",
      "16 2014-10-01  237313\n",
      "17 2014-11-01  113875\n",
      "18 2014-12-01   86777\n",
      "19 2015-01-01   59278\n",
      "20 2015-02-01   35138\n",
      "21 2015-03-01  107933\n",
      "22 2015-04-01  176228\n",
      "23 2015-05-01  301815\n",
      "24 2015-06-01  415847\n",
      "25 2015-07-01  533711\n",
      "26 2015-08-01  495029\n",
      "27 2015-09-01  427095\n",
      "28 2015-10-01  316309\n",
      "29 2015-11-01  193791\n",
      "30 2015-12-01  121062\n",
      "31 2016-01-01   92839\n",
      "32 2016-02-01  118120\n",
      "33 2016-03-01  185953\n",
      "34 2016-04-01  231635\n",
      "35 2016-05-01  363319\n",
      "36 2016-06-01  477873\n",
      "37 2016-07-01  518080\n",
      "38 2016-08-01  484492\n",
      "39 2016-09-01  439190\n",
      "40 2016-10-01  350194\n",
      "41 2016-11-01  240408\n",
      "42 2016-12-01   93230\n"
     ]
    }
   ],
   "source": [
    "query = (data_url+'?'\n",
    "         '$select=date_trunc_ym(start_time) AS month, count(*) AS total'\n",
    "         '&$group=month')\n",
    "\n",
    "rows = pd.read_json(query.replace(' ', '%20'))\n",
    "rows.sort_values(by='month', inplace=True)\n",
    "rows['month'] = pd.to_datetime(rows['month'])\n",
    "\n",
    "print rows"
   ]
  },
  {
   "cell_type": "code",
   "execution_count": 4,
   "metadata": {
    "collapsed": false
   },
   "outputs": [
    {
     "data": {
      "image/png": "[encoded data removed]",
      "text/plain": [
       "<matplotlib.figure.Figure at 0x40a6b00>"
      ]
     },
     "metadata": {},
     "output_type": "display_data"
    }
   ],
   "source": [
    "plt.plot(rows['month'], rows['total'])\n",
    "plt.show()"
   ]
  },
  {
   "cell_type": "code",
   "execution_count": null,
   "metadata": {
    "collapsed": true
   },
   "outputs": [],
   "source": []
  }
 ],
 "metadata": {
  "kernelspec": {
   "display_name": "Python 2",
   "language": "python",
   "name": "python2"
  },
  "language_info": {
   "codemirror_mode": {
    "name": "ipython",
    "version": 2
   },
   "file_extension": ".py",
   "mimetype": "text/x-python",
   "name": "python",
   "nbconvert_exporter": "python",
   "pygments_lexer": "ipython2",
   "version": "2.7.11"
  }
 },
 "nbformat": 4,
 "nbformat_minor": 0
}
