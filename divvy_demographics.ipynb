{
 "cells": [
  {
   "cell_type": "markdown",
   "metadata": {},
   "source": [
    "# VERY simple demographic trends"
   ]
  },
  {
   "cell_type": "code",
   "execution_count": 1,
   "metadata": {
    "collapsed": false
   },
   "outputs": [],
   "source": [
    "%matplotlib inline\n",
    "import sodapy\n",
    "import matplotlib.pyplot as pp\n",
    "\n",
    "data_url = 'data.cityofchicago.org'\n",
    "divvy_data = 'fg6s-gzvg'"
   ]
  },
  {
   "cell_type": "markdown",
   "metadata": {},
   "source": [
    "## Percentage of rides taken by female subscribers"
   ]
  },
  {
   "cell_type": "code",
   "execution_count": 2,
   "metadata": {
    "collapsed": false
   },
   "outputs": [
    {
     "name": "stderr",
     "output_type": "stream",
     "text": [
      "WARNING:root:Requests made without an app_token will be subject to strict throttling limits.\n"
     ]
    },
    {
     "name": "stdout",
     "output_type": "stream",
     "text": [
      "YEAR Total Rides %Female (subscriber)\n",
      "2013      402767   21.0\n",
      "2014     1662530   24.5\n",
      "2015     2252162   25.2\n",
      "2016     1146768   24.4\n"
     ]
    }
   ],
   "source": [
    "data = sodapy.Socrata(data_url, None)\n",
    "\n",
    "print 'YEAR Total Rides %Female (subscriber)'\n",
    "for y in [2013, 2014, 2015, 2016]:\n",
    "    where = 'stop_time between \\'{0:d}-01-01T00:00:00\\''.format(y) +\\\n",
    "        ' and \\'{0:d}-12-31T11:59:00\\''.format(y)\n",
    "    num_trips = data.get(divvy_data, select='gender, count(trip_id)',\n",
    "                         where=where,\n",
    "                         group='gender')\n",
    "    for i, r in enumerate(num_trips):\n",
    "        if 'gender' in r:\n",
    "            if r['gender'] == 'Male':\n",
    "                i_male = i\n",
    "            elif r['gender'] == 'Female':\n",
    "                i_female = i\n",
    "\n",
    "    num_female = int(num_trips[i_female]['count_trip_id'])\n",
    "    num_male = int(num_trips[i_male]['count_trip_id'])\n",
    "\n",
    "    num_total = num_female + num_male\n",
    "    p_female = 100.0*float(num_female)/num_total\n",
    "\n",
    "    print '{0:d} {1:11d}   {2:2.1f}'.format(y, num_total, p_female)\n",
    "\n",
    "data.close()"
   ]
  },
  {
   "cell_type": "markdown",
   "metadata": {},
   "source": [
    "## Histogram of total rides per bicycle"
   ]
  },
  {
   "cell_type": "code",
   "execution_count": 6,
   "metadata": {
    "collapsed": false
   },
   "outputs": [
    {
     "name": "stderr",
     "output_type": "stream",
     "text": [
      "WARNING:root:Requests made without an app_token will be subject to strict throttling limits.\n"
     ]
    },
    {
     "data": {
      "image/png": "[encoded data removed]",
      "text/plain": [
       "<matplotlib.figure.Figure at 0x7f4930466d10>"
      ]
     },
     "metadata": {},
     "output_type": "display_data"
    }
   ],
   "source": [
    "data = sodapy.Socrata(data_url, None)\n",
    "num_trips = data.get(divvy_data, select='bike_id, count(trip_id)',\n",
    "                     group='bike_id', limit=6000)\n",
    "data.close()\n",
    "\n",
    "trips_per_bike = [int(n['count_trip_id']) for n in num_trips]\n",
    "\n",
    "pp.hist(trips_per_bike, bins=30)\n",
    "pp.show()"
   ]
  },
  {
   "cell_type": "code",
   "execution_count": null,
   "metadata": {
    "collapsed": true
   },
   "outputs": [],
   "source": []
  }
 ],
 "metadata": {
  "kernelspec": {
   "display_name": "Python 2",
   "language": "python",
   "name": "python2"
  },
  "language_info": {
   "codemirror_mode": {
    "name": "ipython",
    "version": 2
   },
   "file_extension": ".py",
   "mimetype": "text/x-python",
   "name": "python",
   "nbconvert_exporter": "python",
   "pygments_lexer": "ipython2",
   "version": "2.7.12"
  }
 },
 "nbformat": 4,
 "nbformat_minor": 0
}
